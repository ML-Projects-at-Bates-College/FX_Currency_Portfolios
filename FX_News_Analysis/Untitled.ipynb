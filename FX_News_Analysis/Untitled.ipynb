{
 "cells": [
  {
   "cell_type": "code",
   "execution_count": 135,
   "metadata": {},
   "outputs": [],
   "source": [
    "from imports import *\n",
    "from functions_kit import *\n",
    "from sentiment_analyzer import sa"
   ]
  },
  {
   "cell_type": "code",
   "execution_count": 316,
   "metadata": {},
   "outputs": [],
   "source": [
    "AUS = sa('UK', load = True)"
   ]
  },
  {
   "cell_type": "code",
   "execution_count": 317,
   "metadata": {},
   "outputs": [],
   "source": [
    "AUS_df = AUS.final_df"
   ]
  },
  {
   "cell_type": "code",
   "execution_count": 434,
   "metadata": {},
   "outputs": [
    {
     "data": {
      "text/plain": [
       "3550"
      ]
     },
     "execution_count": 434,
     "metadata": {},
     "output_type": "execute_result"
    }
   ],
   "source": [
    "len(AUS_df)"
   ]
  },
  {
   "cell_type": "code",
   "execution_count": 489,
   "metadata": {},
   "outputs": [],
   "source": [
    "x = pd.read_pickle('news_data/sentiment/sentiment_EUR.pkl')"
   ]
  },
  {
   "cell_type": "code",
   "execution_count": 535,
   "metadata": {},
   "outputs": [],
   "source": [
    "AUS_df = pd.read_pickle('news_data/sentiment/sentiment_EUR.pkl')"
   ]
  },
  {
   "cell_type": "code",
   "execution_count": 536,
   "metadata": {},
   "outputs": [],
   "source": [
    "AUS_df['aggregate_sentiment'] = AUS_df['manual_sentiment'] + AUS_df['vader_sentiment'] + AUS_df['textblob_sentiment'] + AUS_df['HIV4_sentiment'] + AUS_df['LM_sentiment']\n",
    "AUS_df['aggregate_sentiment'][AUS_df['aggregate_sentiment'] > 1] = 1\n",
    "AUS_df['aggregate_sentiment'][AUS_df['aggregate_sentiment'] < -1] = -1"
   ]
  },
  {
   "cell_type": "code",
   "execution_count": 537,
   "metadata": {},
   "outputs": [
    {
     "data": {
      "text/html": [
       "<div>\n",
       "<style scoped>\n",
       "    .dataframe tbody tr th:only-of-type {\n",
       "        vertical-align: middle;\n",
       "    }\n",
       "\n",
       "    .dataframe tbody tr th {\n",
       "        vertical-align: top;\n",
       "    }\n",
       "\n",
       "    .dataframe thead th {\n",
       "        text-align: right;\n",
       "    }\n",
       "</style>\n",
       "<table border=\"1\" class=\"dataframe\">\n",
       "  <thead>\n",
       "    <tr style=\"text-align: right;\">\n",
       "      <th></th>\n",
       "      <th>text</th>\n",
       "      <th>title</th>\n",
       "      <th>manual_sentiment_score</th>\n",
       "      <th>manual_sentiment</th>\n",
       "      <th>vader_sentiment_score</th>\n",
       "      <th>vader_sentiment</th>\n",
       "      <th>textblob_sentiment_score</th>\n",
       "      <th>textblob_sentiment</th>\n",
       "      <th>HIV4_sentiment_score</th>\n",
       "      <th>HIV4_sentiment</th>\n",
       "      <th>LM_sentiment_score</th>\n",
       "      <th>LM_sentiment</th>\n",
       "      <th>aggregate_sentiment</th>\n",
       "    </tr>\n",
       "  </thead>\n",
       "  <tbody>\n",
       "    <tr>\n",
       "      <th>2008-09-08</th>\n",
       "      <td>stock recover poise week sharp fall wall stree...</td>\n",
       "      <td>global market calm return coordinate rate cut ...</td>\n",
       "      <td>0.178821</td>\n",
       "      <td>1</td>\n",
       "      <td>-0.9830</td>\n",
       "      <td>-1</td>\n",
       "      <td>0.017391</td>\n",
       "      <td>1</td>\n",
       "      <td>-0.039514</td>\n",
       "      <td>-1</td>\n",
       "      <td>-0.602837</td>\n",
       "      <td>-1</td>\n",
       "      <td>-1</td>\n",
       "    </tr>\n",
       "    <tr>\n",
       "      <th>2008-09-09</th>\n",
       "      <td>msci world equity index pct panic sell hit asi...</td>\n",
       "      <td>global market fearful investor dump stock bond...</td>\n",
       "      <td>0.064140</td>\n",
       "      <td>1</td>\n",
       "      <td>-0.9996</td>\n",
       "      <td>-1</td>\n",
       "      <td>0.004653</td>\n",
       "      <td>1</td>\n",
       "      <td>0.064327</td>\n",
       "      <td>1</td>\n",
       "      <td>-0.693431</td>\n",
       "      <td>-1</td>\n",
       "      <td>1</td>\n",
       "    </tr>\n",
       "    <tr>\n",
       "      <th>2008-09-12</th>\n",
       "      <td>euro rally european govts agree rescue bank st...</td>\n",
       "      <td>forex euro stg rally bank bailout detail annou...</td>\n",
       "      <td>0.088672</td>\n",
       "      <td>1</td>\n",
       "      <td>0.5003</td>\n",
       "      <td>1</td>\n",
       "      <td>-0.020412</td>\n",
       "      <td>-1</td>\n",
       "      <td>0.333333</td>\n",
       "      <td>1</td>\n",
       "      <td>-0.589744</td>\n",
       "      <td>-1</td>\n",
       "      <td>1</td>\n",
       "    </tr>\n",
       "    <tr>\n",
       "      <th>2008-09-14</th>\n",
       "      <td>yen fall percent vs euro decline broadly europ...</td>\n",
       "      <td>forex yen slide global bank rescue step global...</td>\n",
       "      <td>-0.011039</td>\n",
       "      <td>-1</td>\n",
       "      <td>-0.9996</td>\n",
       "      <td>-1</td>\n",
       "      <td>0.003089</td>\n",
       "      <td>1</td>\n",
       "      <td>0.033613</td>\n",
       "      <td>1</td>\n",
       "      <td>-0.637306</td>\n",
       "      <td>-1</td>\n",
       "      <td>-1</td>\n",
       "    </tr>\n",
       "    <tr>\n",
       "      <th>2008-09-15</th>\n",
       "      <td>stock surge bargain snap wild session dollar g...</td>\n",
       "      <td>global market stock surge bargain hunt oil slide</td>\n",
       "      <td>-0.078151</td>\n",
       "      <td>-1</td>\n",
       "      <td>-0.9973</td>\n",
       "      <td>-1</td>\n",
       "      <td>-0.089784</td>\n",
       "      <td>-1</td>\n",
       "      <td>-0.223881</td>\n",
       "      <td>-1</td>\n",
       "      <td>-0.828571</td>\n",
       "      <td>-1</td>\n",
       "      <td>-1</td>\n",
       "    </tr>\n",
       "  </tbody>\n",
       "</table>\n",
       "</div>"
      ],
      "text/plain": [
       "                                                         text  \\\n",
       "2008-09-08  stock recover poise week sharp fall wall stree...   \n",
       "2008-09-09  msci world equity index pct panic sell hit asi...   \n",
       "2008-09-12  euro rally european govts agree rescue bank st...   \n",
       "2008-09-14  yen fall percent vs euro decline broadly europ...   \n",
       "2008-09-15  stock surge bargain snap wild session dollar g...   \n",
       "\n",
       "                                                        title  \\\n",
       "2008-09-08  global market calm return coordinate rate cut ...   \n",
       "2008-09-09  global market fearful investor dump stock bond...   \n",
       "2008-09-12  forex euro stg rally bank bailout detail annou...   \n",
       "2008-09-14  forex yen slide global bank rescue step global...   \n",
       "2008-09-15   global market stock surge bargain hunt oil slide   \n",
       "\n",
       "            manual_sentiment_score  manual_sentiment  vader_sentiment_score  \\\n",
       "2008-09-08                0.178821                 1                -0.9830   \n",
       "2008-09-09                0.064140                 1                -0.9996   \n",
       "2008-09-12                0.088672                 1                 0.5003   \n",
       "2008-09-14               -0.011039                -1                -0.9996   \n",
       "2008-09-15               -0.078151                -1                -0.9973   \n",
       "\n",
       "            vader_sentiment  textblob_sentiment_score  textblob_sentiment  \\\n",
       "2008-09-08               -1                  0.017391                   1   \n",
       "2008-09-09               -1                  0.004653                   1   \n",
       "2008-09-12                1                 -0.020412                  -1   \n",
       "2008-09-14               -1                  0.003089                   1   \n",
       "2008-09-15               -1                 -0.089784                  -1   \n",
       "\n",
       "            HIV4_sentiment_score  HIV4_sentiment  LM_sentiment_score  \\\n",
       "2008-09-08             -0.039514              -1           -0.602837   \n",
       "2008-09-09              0.064327               1           -0.693431   \n",
       "2008-09-12              0.333333               1           -0.589744   \n",
       "2008-09-14              0.033613               1           -0.637306   \n",
       "2008-09-15             -0.223881              -1           -0.828571   \n",
       "\n",
       "            LM_sentiment  aggregate_sentiment  \n",
       "2008-09-08            -1                   -1  \n",
       "2008-09-09            -1                    1  \n",
       "2008-09-12            -1                    1  \n",
       "2008-09-14            -1                   -1  \n",
       "2008-09-15            -1                   -1  "
      ]
     },
     "execution_count": 537,
     "metadata": {},
     "output_type": "execute_result"
    }
   ],
   "source": [
    "AUS_df.head()"
   ]
  },
  {
   "cell_type": "code",
   "execution_count": 538,
   "metadata": {},
   "outputs": [
    {
     "data": {
      "text/html": [
       "<div>\n",
       "<style scoped>\n",
       "    .dataframe tbody tr th:only-of-type {\n",
       "        vertical-align: middle;\n",
       "    }\n",
       "\n",
       "    .dataframe tbody tr th {\n",
       "        vertical-align: top;\n",
       "    }\n",
       "\n",
       "    .dataframe thead th {\n",
       "        text-align: right;\n",
       "    }\n",
       "</style>\n",
       "<table border=\"1\" class=\"dataframe\">\n",
       "  <thead>\n",
       "    <tr style=\"text-align: right;\">\n",
       "      <th></th>\n",
       "      <th>AUD</th>\n",
       "      <th>CAD</th>\n",
       "      <th>CNY</th>\n",
       "      <th>COP</th>\n",
       "      <th>EUR</th>\n",
       "      <th>JPY</th>\n",
       "      <th>NZD</th>\n",
       "      <th>ZAR</th>\n",
       "      <th>SGD</th>\n",
       "      <th>CHF</th>\n",
       "      <th>GBP</th>\n",
       "    </tr>\n",
       "  </thead>\n",
       "  <tbody>\n",
       "    <tr>\n",
       "      <th>2008-09-08</th>\n",
       "      <td>1.225885</td>\n",
       "      <td>1.065900</td>\n",
       "      <td>6.844128</td>\n",
       "      <td>2065.129142</td>\n",
       "      <td>0.707666</td>\n",
       "      <td>108.213684</td>\n",
       "      <td>1.490382</td>\n",
       "      <td>7.881818</td>\n",
       "      <td>1.429007</td>\n",
       "      <td>1.130554</td>\n",
       "      <td>0.569178</td>\n",
       "    </tr>\n",
       "    <tr>\n",
       "      <th>2008-09-09</th>\n",
       "      <td>1.238554</td>\n",
       "      <td>1.066616</td>\n",
       "      <td>6.838930</td>\n",
       "      <td>2072.682934</td>\n",
       "      <td>0.707031</td>\n",
       "      <td>107.481688</td>\n",
       "      <td>1.488939</td>\n",
       "      <td>7.919433</td>\n",
       "      <td>1.431538</td>\n",
       "      <td>1.128351</td>\n",
       "      <td>0.567448</td>\n",
       "    </tr>\n",
       "    <tr>\n",
       "      <th>2008-09-11</th>\n",
       "      <td>1.253593</td>\n",
       "      <td>1.076406</td>\n",
       "      <td>6.847612</td>\n",
       "      <td>2066.892293</td>\n",
       "      <td>0.717233</td>\n",
       "      <td>106.745700</td>\n",
       "      <td>1.538959</td>\n",
       "      <td>8.285845</td>\n",
       "      <td>1.444281</td>\n",
       "      <td>1.139091</td>\n",
       "      <td>0.570650</td>\n",
       "    </tr>\n",
       "    <tr>\n",
       "      <th>2008-09-12</th>\n",
       "      <td>1.226553</td>\n",
       "      <td>1.063836</td>\n",
       "      <td>6.823175</td>\n",
       "      <td>2065.364371</td>\n",
       "      <td>0.705455</td>\n",
       "      <td>107.527481</td>\n",
       "      <td>1.510527</td>\n",
       "      <td>8.095728</td>\n",
       "      <td>1.432597</td>\n",
       "      <td>1.134344</td>\n",
       "      <td>0.561074</td>\n",
       "    </tr>\n",
       "    <tr>\n",
       "      <th>2008-09-14</th>\n",
       "      <td>1.226553</td>\n",
       "      <td>1.064781</td>\n",
       "      <td>6.843508</td>\n",
       "      <td>2065.364371</td>\n",
       "      <td>0.707217</td>\n",
       "      <td>107.522848</td>\n",
       "      <td>1.512398</td>\n",
       "      <td>8.084855</td>\n",
       "      <td>1.432364</td>\n",
       "      <td>1.134626</td>\n",
       "      <td>0.561773</td>\n",
       "    </tr>\n",
       "  </tbody>\n",
       "</table>\n",
       "</div>"
      ],
      "text/plain": [
       "                 AUD       CAD       CNY          COP       EUR         JPY  \\\n",
       "2008-09-08  1.225885  1.065900  6.844128  2065.129142  0.707666  108.213684   \n",
       "2008-09-09  1.238554  1.066616  6.838930  2072.682934  0.707031  107.481688   \n",
       "2008-09-11  1.253593  1.076406  6.847612  2066.892293  0.717233  106.745700   \n",
       "2008-09-12  1.226553  1.063836  6.823175  2065.364371  0.705455  107.527481   \n",
       "2008-09-14  1.226553  1.064781  6.843508  2065.364371  0.707217  107.522848   \n",
       "\n",
       "                 NZD       ZAR       SGD       CHF       GBP  \n",
       "2008-09-08  1.490382  7.881818  1.429007  1.130554  0.569178  \n",
       "2008-09-09  1.488939  7.919433  1.431538  1.128351  0.567448  \n",
       "2008-09-11  1.538959  8.285845  1.444281  1.139091  0.570650  \n",
       "2008-09-12  1.510527  8.095728  1.432597  1.134344  0.561074  \n",
       "2008-09-14  1.512398  8.084855  1.432364  1.134626  0.561773  "
      ]
     },
     "execution_count": 538,
     "metadata": {},
     "output_type": "execute_result"
    }
   ],
   "source": [
    "final_list_of_currencies = ['AUD', 'CAD', 'CNY', 'COP', 'EUR', 'JPY', 'NZD', 'ZAR', 'SGD', 'CHF', 'GBP']\n",
    "final_list_of_countries = [\"AUS\", \"CAN\", \"CHN\", \"COL\", \"EUR\", \"JAP\", \"NZ\",\"SA\", \"SNG\", \"SWI\", \"UK\"]\n",
    "\n",
    "exchange_rate_df = pd.read_pickle('data/final_exchange_rate_daily_data.pkl')\n",
    "len(exchange_rate_df)\n",
    "\n",
    "#Reduce datetime to daily for the dataset\n",
    "exchange_rate_df.index = exchange_rate_df.index.values.astype('<M8[D]')\n",
    "\n",
    "exchange_rate_df.head()"
   ]
  },
  {
   "cell_type": "code",
   "execution_count": 539,
   "metadata": {},
   "outputs": [
    {
     "data": {
      "text/plain": [
       "3332"
      ]
     },
     "execution_count": 539,
     "metadata": {},
     "output_type": "execute_result"
    }
   ],
   "source": [
    "len(exchange_rate_df)"
   ]
  },
  {
   "cell_type": "code",
   "execution_count": 540,
   "metadata": {},
   "outputs": [
    {
     "data": {
      "text/plain": [
       "3331"
      ]
     },
     "execution_count": 540,
     "metadata": {},
     "output_type": "execute_result"
    }
   ],
   "source": [
    "len(UK_change)"
   ]
  },
  {
   "cell_type": "code",
   "execution_count": 541,
   "metadata": {},
   "outputs": [],
   "source": [
    "#Get UK exchange rates\n",
    "UK_exchange = exchange_rate_df['EUR']\n",
    "UK_change = UK_exchange.pct_change()\n",
    "UK_change.dropna(inplace = True)"
   ]
  },
  {
   "cell_type": "code",
   "execution_count": 542,
   "metadata": {},
   "outputs": [],
   "source": [
    "AUS_df['exchange_rate'] = UK_change\n",
    "\n",
    "binary_column = [1 if value > 0 else -1 for value in AUS_df['exchange_rate']]\n",
    "AUS_df['exchange_direction'] = binary_column"
   ]
  },
  {
   "cell_type": "code",
   "execution_count": 543,
   "metadata": {},
   "outputs": [],
   "source": [
    "AUS_df.dropna(inplace = True)"
   ]
  },
  {
   "cell_type": "code",
   "execution_count": 544,
   "metadata": {},
   "outputs": [
    {
     "data": {
      "text/plain": [
       "3320"
      ]
     },
     "execution_count": 544,
     "metadata": {},
     "output_type": "execute_result"
    }
   ],
   "source": [
    "len(AUS_df)"
   ]
  },
  {
   "cell_type": "code",
   "execution_count": 545,
   "metadata": {},
   "outputs": [
    {
     "data": {
      "text/html": [
       "<div>\n",
       "<style scoped>\n",
       "    .dataframe tbody tr th:only-of-type {\n",
       "        vertical-align: middle;\n",
       "    }\n",
       "\n",
       "    .dataframe tbody tr th {\n",
       "        vertical-align: top;\n",
       "    }\n",
       "\n",
       "    .dataframe thead th {\n",
       "        text-align: right;\n",
       "    }\n",
       "</style>\n",
       "<table border=\"1\" class=\"dataframe\">\n",
       "  <thead>\n",
       "    <tr style=\"text-align: right;\">\n",
       "      <th></th>\n",
       "      <th>text</th>\n",
       "      <th>title</th>\n",
       "      <th>manual_sentiment_score</th>\n",
       "      <th>manual_sentiment</th>\n",
       "      <th>vader_sentiment_score</th>\n",
       "      <th>vader_sentiment</th>\n",
       "      <th>textblob_sentiment_score</th>\n",
       "      <th>textblob_sentiment</th>\n",
       "      <th>HIV4_sentiment_score</th>\n",
       "      <th>HIV4_sentiment</th>\n",
       "      <th>LM_sentiment_score</th>\n",
       "      <th>LM_sentiment</th>\n",
       "      <th>aggregate_sentiment</th>\n",
       "      <th>exchange_rate</th>\n",
       "      <th>exchange_direction</th>\n",
       "    </tr>\n",
       "  </thead>\n",
       "  <tbody>\n",
       "    <tr>\n",
       "      <th>2008-09-09</th>\n",
       "      <td>msci world equity index pct panic sell hit asi...</td>\n",
       "      <td>global market fearful investor dump stock bond...</td>\n",
       "      <td>0.064140</td>\n",
       "      <td>1</td>\n",
       "      <td>-0.9996</td>\n",
       "      <td>-1</td>\n",
       "      <td>0.004653</td>\n",
       "      <td>1</td>\n",
       "      <td>0.064327</td>\n",
       "      <td>1</td>\n",
       "      <td>-0.693431</td>\n",
       "      <td>-1</td>\n",
       "      <td>1</td>\n",
       "      <td>-0.000897</td>\n",
       "      <td>-1</td>\n",
       "    </tr>\n",
       "    <tr>\n",
       "      <th>2008-09-12</th>\n",
       "      <td>euro rally european govts agree rescue bank st...</td>\n",
       "      <td>forex euro stg rally bank bailout detail annou...</td>\n",
       "      <td>0.088672</td>\n",
       "      <td>1</td>\n",
       "      <td>0.5003</td>\n",
       "      <td>1</td>\n",
       "      <td>-0.020412</td>\n",
       "      <td>-1</td>\n",
       "      <td>0.333333</td>\n",
       "      <td>1</td>\n",
       "      <td>-0.589744</td>\n",
       "      <td>-1</td>\n",
       "      <td>1</td>\n",
       "      <td>-0.016421</td>\n",
       "      <td>-1</td>\n",
       "    </tr>\n",
       "    <tr>\n",
       "      <th>2008-09-14</th>\n",
       "      <td>yen fall percent vs euro decline broadly europ...</td>\n",
       "      <td>forex yen slide global bank rescue step global...</td>\n",
       "      <td>-0.011039</td>\n",
       "      <td>-1</td>\n",
       "      <td>-0.9996</td>\n",
       "      <td>-1</td>\n",
       "      <td>0.003089</td>\n",
       "      <td>1</td>\n",
       "      <td>0.033613</td>\n",
       "      <td>1</td>\n",
       "      <td>-0.637306</td>\n",
       "      <td>-1</td>\n",
       "      <td>-1</td>\n",
       "      <td>0.002498</td>\n",
       "      <td>1</td>\n",
       "    </tr>\n",
       "    <tr>\n",
       "      <th>2008-09-15</th>\n",
       "      <td>stock surge bargain snap wild session dollar g...</td>\n",
       "      <td>global market stock surge bargain hunt oil slide</td>\n",
       "      <td>-0.078151</td>\n",
       "      <td>-1</td>\n",
       "      <td>-0.9973</td>\n",
       "      <td>-1</td>\n",
       "      <td>-0.089784</td>\n",
       "      <td>-1</td>\n",
       "      <td>-0.223881</td>\n",
       "      <td>-1</td>\n",
       "      <td>-0.828571</td>\n",
       "      <td>-1</td>\n",
       "      <td>-1</td>\n",
       "      <td>-0.002889</td>\n",
       "      <td>-1</td>\n",
       "    </tr>\n",
       "    <tr>\n",
       "      <th>2008-09-16</th>\n",
       "      <td>jeremy gaunt european investment correspondent...</td>\n",
       "      <td>global market equity rise help earnings credit...</td>\n",
       "      <td>-0.268477</td>\n",
       "      <td>-1</td>\n",
       "      <td>-0.9959</td>\n",
       "      <td>-1</td>\n",
       "      <td>-0.059579</td>\n",
       "      <td>-1</td>\n",
       "      <td>-0.119565</td>\n",
       "      <td>-1</td>\n",
       "      <td>-0.723404</td>\n",
       "      <td>-1</td>\n",
       "      <td>-1</td>\n",
       "      <td>0.000645</td>\n",
       "      <td>1</td>\n",
       "    </tr>\n",
       "  </tbody>\n",
       "</table>\n",
       "</div>"
      ],
      "text/plain": [
       "                                                         text  \\\n",
       "2008-09-09  msci world equity index pct panic sell hit asi...   \n",
       "2008-09-12  euro rally european govts agree rescue bank st...   \n",
       "2008-09-14  yen fall percent vs euro decline broadly europ...   \n",
       "2008-09-15  stock surge bargain snap wild session dollar g...   \n",
       "2008-09-16  jeremy gaunt european investment correspondent...   \n",
       "\n",
       "                                                        title  \\\n",
       "2008-09-09  global market fearful investor dump stock bond...   \n",
       "2008-09-12  forex euro stg rally bank bailout detail annou...   \n",
       "2008-09-14  forex yen slide global bank rescue step global...   \n",
       "2008-09-15   global market stock surge bargain hunt oil slide   \n",
       "2008-09-16  global market equity rise help earnings credit...   \n",
       "\n",
       "            manual_sentiment_score  manual_sentiment  vader_sentiment_score  \\\n",
       "2008-09-09                0.064140                 1                -0.9996   \n",
       "2008-09-12                0.088672                 1                 0.5003   \n",
       "2008-09-14               -0.011039                -1                -0.9996   \n",
       "2008-09-15               -0.078151                -1                -0.9973   \n",
       "2008-09-16               -0.268477                -1                -0.9959   \n",
       "\n",
       "            vader_sentiment  textblob_sentiment_score  textblob_sentiment  \\\n",
       "2008-09-09               -1                  0.004653                   1   \n",
       "2008-09-12                1                 -0.020412                  -1   \n",
       "2008-09-14               -1                  0.003089                   1   \n",
       "2008-09-15               -1                 -0.089784                  -1   \n",
       "2008-09-16               -1                 -0.059579                  -1   \n",
       "\n",
       "            HIV4_sentiment_score  HIV4_sentiment  LM_sentiment_score  \\\n",
       "2008-09-09              0.064327               1           -0.693431   \n",
       "2008-09-12              0.333333               1           -0.589744   \n",
       "2008-09-14              0.033613               1           -0.637306   \n",
       "2008-09-15             -0.223881              -1           -0.828571   \n",
       "2008-09-16             -0.119565              -1           -0.723404   \n",
       "\n",
       "            LM_sentiment  aggregate_sentiment  exchange_rate  \\\n",
       "2008-09-09            -1                    1      -0.000897   \n",
       "2008-09-12            -1                    1      -0.016421   \n",
       "2008-09-14            -1                   -1       0.002498   \n",
       "2008-09-15            -1                   -1      -0.002889   \n",
       "2008-09-16            -1                   -1       0.000645   \n",
       "\n",
       "            exchange_direction  \n",
       "2008-09-09                  -1  \n",
       "2008-09-12                  -1  \n",
       "2008-09-14                   1  \n",
       "2008-09-15                  -1  \n",
       "2008-09-16                   1  "
      ]
     },
     "execution_count": 545,
     "metadata": {},
     "output_type": "execute_result"
    }
   ],
   "source": [
    "AUS_df.head()"
   ]
  },
  {
   "cell_type": "code",
   "execution_count": 546,
   "metadata": {},
   "outputs": [
    {
     "name": "stderr",
     "output_type": "stream",
     "text": [
      "\n",
      "  0%|          | 0/3320 [00:00<?, ?it/s]\u001b[A\n",
      "100%|██████████| 3320/3320 [00:00<00:00, 53381.47it/s]\u001b[A\n",
      "  0%|          | 0/3320 [00:00<?, ?it/s]\u001b[A\n",
      "100%|██████████| 3320/3320 [00:00<00:00, 57356.11it/s]\u001b[A\n",
      "  0%|          | 0/3320 [00:00<?, ?it/s]\u001b[A\n",
      "100%|██████████| 3320/3320 [00:00<00:00, 57101.63it/s]\u001b[A\n",
      "  0%|          | 0/3320 [00:00<?, ?it/s]\u001b[A\n",
      "100%|██████████| 3320/3320 [00:00<00:00, 57042.45it/s]\u001b[A\n",
      "  0%|          | 0/3320 [00:00<?, ?it/s]\u001b[A\n",
      "100%|██████████| 3320/3320 [00:00<00:00, 57672.05it/s]\u001b[A\n",
      "  0%|          | 0/3320 [00:00<?, ?it/s]\u001b[A\n",
      "100%|██████████| 3320/3320 [00:00<00:00, 58076.38it/s]\u001b[A"
     ]
    },
    {
     "data": {
      "text/plain": [
       "50.451807228915655"
      ]
     },
     "execution_count": 546,
     "metadata": {},
     "output_type": "execute_result"
    }
   ],
   "source": [
    "#Check how many times the direction of the exchange rate and the sentiment was the same\n",
    "vader_score = []\n",
    "manual_score = []\n",
    "textblob_score = []\n",
    "aggregate_score = []\n",
    "hiv4_score = []\n",
    "lm_score = []\n",
    "length_of_df = len(AUS_df)\n",
    "\n",
    "#Vader Score\n",
    "for i in tqdm.tqdm(range(length_of_df)):\n",
    "    if AUS_df['vader_sentiment'].iloc[i] == AUS_df['exchange_direction'].iloc[i]:\n",
    "        vader_score.append(1)\n",
    "\n",
    "vader_score = (sum(vader_score) / length_of_df) * 100\n",
    "vader_score\n",
    "\n",
    "#Manual Score\n",
    "for i in tqdm.tqdm(range(length_of_df)):\n",
    "    if AUS_df['manual_sentiment'].iloc[i] == AUS_df['exchange_direction'].iloc[i]:\n",
    "        manual_score.append(1)\n",
    "\n",
    "manual_score = (sum(manual_score) / length_of_df) * 100\n",
    "manual_score\n",
    "\n",
    "#TextBlob Score\n",
    "for i in tqdm.tqdm(range(length_of_df)):\n",
    "    if AUS_df['textblob_sentiment'].iloc[i] == AUS_df['exchange_direction'].iloc[i]:\n",
    "        textblob_score.append(1)\n",
    "\n",
    "textblob_score = (sum(textblob_score) / length_of_df) * 100\n",
    "textblob_score\n",
    "\n",
    "#HIV4 Score\n",
    "for i in tqdm.tqdm(range(length_of_df)):\n",
    "    if AUS_df['HIV4_sentiment'].iloc[i] == AUS_df['exchange_direction'].iloc[i]:\n",
    "        hiv4_score.append(1)\n",
    "\n",
    "hiv4_score = (sum(hiv4_score) / length_of_df) * 100\n",
    "\n",
    "#LM Score\n",
    "for i in tqdm.tqdm(range(length_of_df)):\n",
    "    if AUS_df['LM_sentiment'].iloc[i] == AUS_df['exchange_direction'].iloc[i]:\n",
    "        lm_score.append(1)\n",
    "\n",
    "lm_score = (sum(lm_score) / length_of_df) * 100\n",
    "        \n",
    "#Aggregate Score\n",
    "for i in tqdm.tqdm(range(length_of_df)):\n",
    "    if AUS_df['aggregate_sentiment'].iloc[i] == AUS_df['exchange_direction'].iloc[i]:\n",
    "        aggregate_score.append(1)\n",
    "    \n",
    "aggregate_score = (sum(aggregate_score) / length_of_df) * 100\n",
    "aggregate_score"
   ]
  },
  {
   "cell_type": "code",
   "execution_count": 547,
   "metadata": {},
   "outputs": [
    {
     "data": {
      "text/plain": [
       "49.30722891566265"
      ]
     },
     "execution_count": 547,
     "metadata": {},
     "output_type": "execute_result"
    }
   ],
   "source": [
    "vader_score"
   ]
  },
  {
   "cell_type": "code",
   "execution_count": 548,
   "metadata": {},
   "outputs": [
    {
     "data": {
      "text/plain": [
       "49.54819277108434"
      ]
     },
     "execution_count": 548,
     "metadata": {},
     "output_type": "execute_result"
    }
   ],
   "source": [
    "manual_score"
   ]
  },
  {
   "cell_type": "code",
   "execution_count": 549,
   "metadata": {},
   "outputs": [
    {
     "data": {
      "text/plain": [
       "50.451807228915655"
      ]
     },
     "execution_count": 549,
     "metadata": {},
     "output_type": "execute_result"
    }
   ],
   "source": [
    "aggregate_score"
   ]
  },
  {
   "cell_type": "code",
   "execution_count": 550,
   "metadata": {},
   "outputs": [
    {
     "data": {
      "text/plain": [
       "50.451807228915655"
      ]
     },
     "execution_count": 550,
     "metadata": {},
     "output_type": "execute_result"
    }
   ],
   "source": [
    "textblob_score"
   ]
  },
  {
   "cell_type": "code",
   "execution_count": 551,
   "metadata": {},
   "outputs": [
    {
     "data": {
      "text/plain": [
       "50.24096385542168"
      ]
     },
     "execution_count": 551,
     "metadata": {},
     "output_type": "execute_result"
    }
   ],
   "source": [
    "hiv4_score"
   ]
  },
  {
   "cell_type": "code",
   "execution_count": 552,
   "metadata": {},
   "outputs": [
    {
     "data": {
      "text/plain": [
       "49.66867469879518"
      ]
     },
     "execution_count": 552,
     "metadata": {},
     "output_type": "execute_result"
    }
   ],
   "source": [
    "lm_score"
   ]
  },
  {
   "cell_type": "code",
   "execution_count": 264,
   "metadata": {},
   "outputs": [
    {
     "ename": "AttributeError",
     "evalue": "'DataFrame' object has no attribute 'count_value'",
     "output_type": "error",
     "traceback": [
      "\u001b[0;31m---------------------------------------------------------------------------\u001b[0m",
      "\u001b[0;31mAttributeError\u001b[0m                            Traceback (most recent call last)",
      "\u001b[0;32m<ipython-input-264-fdad5dc66281>\u001b[0m in \u001b[0;36m<module>\u001b[0;34m\u001b[0m\n\u001b[0;32m----> 1\u001b[0;31m \u001b[0mAUS_df\u001b[0m\u001b[0;34m.\u001b[0m\u001b[0mcount_value\u001b[0m\u001b[0;34m(\u001b[0m\u001b[0;34m)\u001b[0m\u001b[0;34m\u001b[0m\u001b[0;34m\u001b[0m\u001b[0m\n\u001b[0m",
      "\u001b[0;32m/anaconda3/lib/python3.7/site-packages/pandas/core/generic.py\u001b[0m in \u001b[0;36m__getattr__\u001b[0;34m(self, name)\u001b[0m\n\u001b[1;32m   5065\u001b[0m             \u001b[0;32mif\u001b[0m \u001b[0mself\u001b[0m\u001b[0;34m.\u001b[0m\u001b[0m_info_axis\u001b[0m\u001b[0;34m.\u001b[0m\u001b[0m_can_hold_identifiers_and_holds_name\u001b[0m\u001b[0;34m(\u001b[0m\u001b[0mname\u001b[0m\u001b[0;34m)\u001b[0m\u001b[0;34m:\u001b[0m\u001b[0;34m\u001b[0m\u001b[0;34m\u001b[0m\u001b[0m\n\u001b[1;32m   5066\u001b[0m                 \u001b[0;32mreturn\u001b[0m \u001b[0mself\u001b[0m\u001b[0;34m[\u001b[0m\u001b[0mname\u001b[0m\u001b[0;34m]\u001b[0m\u001b[0;34m\u001b[0m\u001b[0;34m\u001b[0m\u001b[0m\n\u001b[0;32m-> 5067\u001b[0;31m             \u001b[0;32mreturn\u001b[0m \u001b[0mobject\u001b[0m\u001b[0;34m.\u001b[0m\u001b[0m__getattribute__\u001b[0m\u001b[0;34m(\u001b[0m\u001b[0mself\u001b[0m\u001b[0;34m,\u001b[0m \u001b[0mname\u001b[0m\u001b[0;34m)\u001b[0m\u001b[0;34m\u001b[0m\u001b[0;34m\u001b[0m\u001b[0m\n\u001b[0m\u001b[1;32m   5068\u001b[0m \u001b[0;34m\u001b[0m\u001b[0m\n\u001b[1;32m   5069\u001b[0m     \u001b[0;32mdef\u001b[0m \u001b[0m__setattr__\u001b[0m\u001b[0;34m(\u001b[0m\u001b[0mself\u001b[0m\u001b[0;34m,\u001b[0m \u001b[0mname\u001b[0m\u001b[0;34m,\u001b[0m \u001b[0mvalue\u001b[0m\u001b[0;34m)\u001b[0m\u001b[0;34m:\u001b[0m\u001b[0;34m\u001b[0m\u001b[0;34m\u001b[0m\u001b[0m\n",
      "\u001b[0;31mAttributeError\u001b[0m: 'DataFrame' object has no attribute 'count_value'"
     ]
    }
   ],
   "source": [
    "AUS_df.count_value()"
   ]
  },
  {
   "cell_type": "code",
   "execution_count": 193,
   "metadata": {},
   "outputs": [],
   "source": [
    "import pysentiment as ps"
   ]
  },
  {
   "cell_type": "code",
   "execution_count": 202,
   "metadata": {},
   "outputs": [],
   "source": [
    "lm = ps.LM()"
   ]
  },
  {
   "cell_type": "code",
   "execution_count": 203,
   "metadata": {},
   "outputs": [
    {
     "name": "stderr",
     "output_type": "stream",
     "text": [
      "100%|██████████| 10/10 [00:00<00:00, 29.77it/s]\n"
     ]
    }
   ],
   "source": [
    "score_list = []\n",
    "for text in tqdm.tqdm(AUS_df['text'][0:10] + AUS_df['title'][0:10]):\n",
    "    tokens = lm.tokenize(text)\n",
    "    score = lm.get_score(tokens)\n",
    "    score_list.append(score)\n",
    "    "
   ]
  },
  {
   "cell_type": "code",
   "execution_count": 9,
   "metadata": {},
   "outputs": [],
   "source": [
    "tokens = hiv4.tokenize(AUS_df['text'][0])"
   ]
  },
  {
   "cell_type": "code",
   "execution_count": 205,
   "metadata": {},
   "outputs": [
    {
     "data": {
      "text/plain": [
       "{'Positive': 21,\n",
       " 'Negative': 116,\n",
       " 'Polarity': -0.693430651872769,\n",
       " 'Subjectivity': 0.10761979567351154}"
      ]
     },
     "execution_count": 205,
     "metadata": {},
     "output_type": "execute_result"
    }
   ],
   "source": [
    "score_list[0]"
   ]
  },
  {
   "cell_type": "code",
   "execution_count": 10,
   "metadata": {},
   "outputs": [],
   "source": [
    "score = hiv4.get_score(tokens)"
   ]
  },
  {
   "cell_type": "code",
   "execution_count": 553,
   "metadata": {},
   "outputs": [],
   "source": [
    "from fredapi import Fred\n",
    "api = '3dcbccc26181a5457fb8bd0584de00a8'\n",
    "fred = Fred(api_key=api)"
   ]
  },
  {
   "cell_type": "code",
   "execution_count": 554,
   "metadata": {},
   "outputs": [],
   "source": [
    "euro_interest = fred.get_series('EURONTD156N')\n",
    "euro_interest = pd.DataFrame(euro_interest)\n",
    "euro_interest = euro_interest.rename(columns = {0:\"libor_EUR\"})"
   ]
  },
  {
   "cell_type": "code",
   "execution_count": 555,
   "metadata": {},
   "outputs": [],
   "source": [
    "us_interest = fred.get_series('USDONTD156N')\n",
    "us_interest = pd.DataFrame(us_interest)\n",
    "us_interest = us_interest.rename(columns = {0:\"libor_USD\"})"
   ]
  },
  {
   "cell_type": "code",
   "execution_count": 556,
   "metadata": {},
   "outputs": [],
   "source": [
    "interest_df = pd.concat([euro_interest, us_interest], axis = 1, sort = True)\n"
   ]
  },
  {
   "cell_type": "code",
   "execution_count": 557,
   "metadata": {},
   "outputs": [
    {
     "data": {
      "text/plain": [
       "libor_EUR    117\n",
       "libor_USD    277\n",
       "dtype: int64"
      ]
     },
     "execution_count": 557,
     "metadata": {},
     "output_type": "execute_result"
    }
   ],
   "source": [
    "interest_df.isna().sum()"
   ]
  },
  {
   "cell_type": "code",
   "execution_count": 558,
   "metadata": {},
   "outputs": [],
   "source": [
    "interest_df.dropna(inplace = True)"
   ]
  },
  {
   "cell_type": "code",
   "execution_count": 559,
   "metadata": {},
   "outputs": [
    {
     "data": {
      "text/plain": [
       "4625"
      ]
     },
     "execution_count": 559,
     "metadata": {},
     "output_type": "execute_result"
    }
   ],
   "source": [
    "len(interest_df)"
   ]
  },
  {
   "cell_type": "code",
   "execution_count": 560,
   "metadata": {},
   "outputs": [],
   "source": [
    "interest_df['interest_diff'] = interest_df['libor_USD'] - interest_df['libor_EUR']"
   ]
  },
  {
   "cell_type": "code",
   "execution_count": 561,
   "metadata": {},
   "outputs": [
    {
     "data": {
      "text/html": [
       "<div>\n",
       "<style scoped>\n",
       "    .dataframe tbody tr th:only-of-type {\n",
       "        vertical-align: middle;\n",
       "    }\n",
       "\n",
       "    .dataframe tbody tr th {\n",
       "        vertical-align: top;\n",
       "    }\n",
       "\n",
       "    .dataframe thead th {\n",
       "        text-align: right;\n",
       "    }\n",
       "</style>\n",
       "<table border=\"1\" class=\"dataframe\">\n",
       "  <thead>\n",
       "    <tr style=\"text-align: right;\">\n",
       "      <th></th>\n",
       "      <th>libor_EUR</th>\n",
       "      <th>libor_USD</th>\n",
       "      <th>interest_diff</th>\n",
       "    </tr>\n",
       "  </thead>\n",
       "  <tbody>\n",
       "    <tr>\n",
       "      <th>2001-01-02</th>\n",
       "      <td>4.84125</td>\n",
       "      <td>6.65125</td>\n",
       "      <td>1.81000</td>\n",
       "    </tr>\n",
       "    <tr>\n",
       "      <th>2001-01-03</th>\n",
       "      <td>4.83250</td>\n",
       "      <td>6.65375</td>\n",
       "      <td>1.82125</td>\n",
       "    </tr>\n",
       "    <tr>\n",
       "      <th>2001-01-04</th>\n",
       "      <td>4.82250</td>\n",
       "      <td>6.09625</td>\n",
       "      <td>1.27375</td>\n",
       "    </tr>\n",
       "    <tr>\n",
       "      <th>2001-01-05</th>\n",
       "      <td>4.78000</td>\n",
       "      <td>6.01625</td>\n",
       "      <td>1.23625</td>\n",
       "    </tr>\n",
       "    <tr>\n",
       "      <th>2001-01-08</th>\n",
       "      <td>4.77625</td>\n",
       "      <td>6.01500</td>\n",
       "      <td>1.23875</td>\n",
       "    </tr>\n",
       "    <tr>\n",
       "      <th>2001-01-09</th>\n",
       "      <td>4.78125</td>\n",
       "      <td>6.01125</td>\n",
       "      <td>1.23000</td>\n",
       "    </tr>\n",
       "    <tr>\n",
       "      <th>2001-01-10</th>\n",
       "      <td>4.82000</td>\n",
       "      <td>6.01500</td>\n",
       "      <td>1.19500</td>\n",
       "    </tr>\n",
       "    <tr>\n",
       "      <th>2001-01-11</th>\n",
       "      <td>4.82938</td>\n",
       "      <td>6.03750</td>\n",
       "      <td>1.20812</td>\n",
       "    </tr>\n",
       "    <tr>\n",
       "      <th>2001-01-12</th>\n",
       "      <td>4.82500</td>\n",
       "      <td>6.02500</td>\n",
       "      <td>1.20000</td>\n",
       "    </tr>\n",
       "    <tr>\n",
       "      <th>2001-01-16</th>\n",
       "      <td>4.81500</td>\n",
       "      <td>6.17625</td>\n",
       "      <td>1.36125</td>\n",
       "    </tr>\n",
       "  </tbody>\n",
       "</table>\n",
       "</div>"
      ],
      "text/plain": [
       "            libor_EUR  libor_USD  interest_diff\n",
       "2001-01-02    4.84125    6.65125        1.81000\n",
       "2001-01-03    4.83250    6.65375        1.82125\n",
       "2001-01-04    4.82250    6.09625        1.27375\n",
       "2001-01-05    4.78000    6.01625        1.23625\n",
       "2001-01-08    4.77625    6.01500        1.23875\n",
       "2001-01-09    4.78125    6.01125        1.23000\n",
       "2001-01-10    4.82000    6.01500        1.19500\n",
       "2001-01-11    4.82938    6.03750        1.20812\n",
       "2001-01-12    4.82500    6.02500        1.20000\n",
       "2001-01-16    4.81500    6.17625        1.36125"
      ]
     },
     "execution_count": 561,
     "metadata": {},
     "output_type": "execute_result"
    }
   ],
   "source": [
    "interest_df.head(10)"
   ]
  },
  {
   "cell_type": "code",
   "execution_count": 562,
   "metadata": {},
   "outputs": [],
   "source": [
    "dataset = pd.concat([AUS_df, interest_df], axis = 1, sort = True)"
   ]
  },
  {
   "cell_type": "code",
   "execution_count": 563,
   "metadata": {},
   "outputs": [
    {
     "data": {
      "text/plain": [
       "text                        2371\n",
       "title                       2371\n",
       "manual_sentiment_score      2371\n",
       "manual_sentiment            2371\n",
       "vader_sentiment_score       2371\n",
       "vader_sentiment             2371\n",
       "textblob_sentiment_score    2371\n",
       "textblob_sentiment          2371\n",
       "HIV4_sentiment_score        2371\n",
       "HIV4_sentiment              2371\n",
       "LM_sentiment_score          2371\n",
       "LM_sentiment                2371\n",
       "aggregate_sentiment         2371\n",
       "exchange_rate               2371\n",
       "exchange_direction          2371\n",
       "libor_EUR                   1066\n",
       "libor_USD                   1066\n",
       "interest_diff               1066\n",
       "dtype: int64"
      ]
     },
     "execution_count": 563,
     "metadata": {},
     "output_type": "execute_result"
    }
   ],
   "source": [
    "dataset.isna().sum()"
   ]
  },
  {
   "cell_type": "code",
   "execution_count": 564,
   "metadata": {},
   "outputs": [
    {
     "data": {
      "text/plain": [
       "3550"
      ]
     },
     "execution_count": 564,
     "metadata": {},
     "output_type": "execute_result"
    }
   ],
   "source": [
    "len(x)"
   ]
  },
  {
   "cell_type": "code",
   "execution_count": 565,
   "metadata": {},
   "outputs": [],
   "source": [
    "dataset.dropna(inplace = True)"
   ]
  },
  {
   "cell_type": "code",
   "execution_count": 566,
   "metadata": {},
   "outputs": [
    {
     "data": {
      "text/html": [
       "<div>\n",
       "<style scoped>\n",
       "    .dataframe tbody tr th:only-of-type {\n",
       "        vertical-align: middle;\n",
       "    }\n",
       "\n",
       "    .dataframe tbody tr th {\n",
       "        vertical-align: top;\n",
       "    }\n",
       "\n",
       "    .dataframe thead th {\n",
       "        text-align: right;\n",
       "    }\n",
       "</style>\n",
       "<table border=\"1\" class=\"dataframe\">\n",
       "  <thead>\n",
       "    <tr style=\"text-align: right;\">\n",
       "      <th></th>\n",
       "      <th>text</th>\n",
       "      <th>title</th>\n",
       "      <th>manual_sentiment_score</th>\n",
       "      <th>manual_sentiment</th>\n",
       "      <th>vader_sentiment_score</th>\n",
       "      <th>vader_sentiment</th>\n",
       "      <th>textblob_sentiment_score</th>\n",
       "      <th>textblob_sentiment</th>\n",
       "      <th>HIV4_sentiment_score</th>\n",
       "      <th>HIV4_sentiment</th>\n",
       "      <th>LM_sentiment_score</th>\n",
       "      <th>LM_sentiment</th>\n",
       "      <th>aggregate_sentiment</th>\n",
       "      <th>exchange_rate</th>\n",
       "      <th>exchange_direction</th>\n",
       "      <th>libor_EUR</th>\n",
       "      <th>libor_USD</th>\n",
       "      <th>interest_diff</th>\n",
       "    </tr>\n",
       "  </thead>\n",
       "  <tbody>\n",
       "    <tr>\n",
       "      <th>2008-09-09</th>\n",
       "      <td>msci world equity index pct panic sell hit asi...</td>\n",
       "      <td>global market fearful investor dump stock bond...</td>\n",
       "      <td>0.064140</td>\n",
       "      <td>1.0</td>\n",
       "      <td>-0.9996</td>\n",
       "      <td>-1.0</td>\n",
       "      <td>0.004653</td>\n",
       "      <td>1.0</td>\n",
       "      <td>0.064327</td>\n",
       "      <td>1.0</td>\n",
       "      <td>-0.693431</td>\n",
       "      <td>-1.0</td>\n",
       "      <td>1.0</td>\n",
       "      <td>-0.000897</td>\n",
       "      <td>-1.0</td>\n",
       "      <td>3.96250</td>\n",
       "      <td>2.13500</td>\n",
       "      <td>-1.82750</td>\n",
       "    </tr>\n",
       "    <tr>\n",
       "      <th>2008-09-12</th>\n",
       "      <td>euro rally european govts agree rescue bank st...</td>\n",
       "      <td>forex euro stg rally bank bailout detail annou...</td>\n",
       "      <td>0.088672</td>\n",
       "      <td>1.0</td>\n",
       "      <td>0.5003</td>\n",
       "      <td>1.0</td>\n",
       "      <td>-0.020412</td>\n",
       "      <td>-1.0</td>\n",
       "      <td>0.333333</td>\n",
       "      <td>1.0</td>\n",
       "      <td>-0.589744</td>\n",
       "      <td>-1.0</td>\n",
       "      <td>1.0</td>\n",
       "      <td>-0.016421</td>\n",
       "      <td>-1.0</td>\n",
       "      <td>4.29500</td>\n",
       "      <td>2.14625</td>\n",
       "      <td>-2.14875</td>\n",
       "    </tr>\n",
       "    <tr>\n",
       "      <th>2008-09-15</th>\n",
       "      <td>stock surge bargain snap wild session dollar g...</td>\n",
       "      <td>global market stock surge bargain hunt oil slide</td>\n",
       "      <td>-0.078151</td>\n",
       "      <td>-1.0</td>\n",
       "      <td>-0.9973</td>\n",
       "      <td>-1.0</td>\n",
       "      <td>-0.089784</td>\n",
       "      <td>-1.0</td>\n",
       "      <td>-0.223881</td>\n",
       "      <td>-1.0</td>\n",
       "      <td>-0.828571</td>\n",
       "      <td>-1.0</td>\n",
       "      <td>-1.0</td>\n",
       "      <td>-0.002889</td>\n",
       "      <td>-1.0</td>\n",
       "      <td>4.49375</td>\n",
       "      <td>3.10625</td>\n",
       "      <td>-1.38750</td>\n",
       "    </tr>\n",
       "    <tr>\n",
       "      <th>2008-09-16</th>\n",
       "      <td>jeremy gaunt european investment correspondent...</td>\n",
       "      <td>global market equity rise help earnings credit...</td>\n",
       "      <td>-0.268477</td>\n",
       "      <td>-1.0</td>\n",
       "      <td>-0.9959</td>\n",
       "      <td>-1.0</td>\n",
       "      <td>-0.059579</td>\n",
       "      <td>-1.0</td>\n",
       "      <td>-0.119565</td>\n",
       "      <td>-1.0</td>\n",
       "      <td>-0.723404</td>\n",
       "      <td>-1.0</td>\n",
       "      <td>-1.0</td>\n",
       "      <td>0.000645</td>\n",
       "      <td>1.0</td>\n",
       "      <td>4.41750</td>\n",
       "      <td>6.43750</td>\n",
       "      <td>2.02000</td>\n",
       "    </tr>\n",
       "    <tr>\n",
       "      <th>2008-09-22</th>\n",
       "      <td>euro hit year low vs dollar year low vs yen ye...</td>\n",
       "      <td>forex dollar hit yr high euro slide econ worry...</td>\n",
       "      <td>-0.091722</td>\n",
       "      <td>-1.0</td>\n",
       "      <td>-0.9933</td>\n",
       "      <td>-1.0</td>\n",
       "      <td>-0.018890</td>\n",
       "      <td>-1.0</td>\n",
       "      <td>-0.123810</td>\n",
       "      <td>-1.0</td>\n",
       "      <td>-0.695652</td>\n",
       "      <td>-1.0</td>\n",
       "      <td>-1.0</td>\n",
       "      <td>-0.025690</td>\n",
       "      <td>-1.0</td>\n",
       "      <td>4.40625</td>\n",
       "      <td>2.96875</td>\n",
       "      <td>-1.43750</td>\n",
       "    </tr>\n",
       "  </tbody>\n",
       "</table>\n",
       "</div>"
      ],
      "text/plain": [
       "                                                         text  \\\n",
       "2008-09-09  msci world equity index pct panic sell hit asi...   \n",
       "2008-09-12  euro rally european govts agree rescue bank st...   \n",
       "2008-09-15  stock surge bargain snap wild session dollar g...   \n",
       "2008-09-16  jeremy gaunt european investment correspondent...   \n",
       "2008-09-22  euro hit year low vs dollar year low vs yen ye...   \n",
       "\n",
       "                                                        title  \\\n",
       "2008-09-09  global market fearful investor dump stock bond...   \n",
       "2008-09-12  forex euro stg rally bank bailout detail annou...   \n",
       "2008-09-15   global market stock surge bargain hunt oil slide   \n",
       "2008-09-16  global market equity rise help earnings credit...   \n",
       "2008-09-22  forex dollar hit yr high euro slide econ worry...   \n",
       "\n",
       "            manual_sentiment_score  manual_sentiment  vader_sentiment_score  \\\n",
       "2008-09-09                0.064140               1.0                -0.9996   \n",
       "2008-09-12                0.088672               1.0                 0.5003   \n",
       "2008-09-15               -0.078151              -1.0                -0.9973   \n",
       "2008-09-16               -0.268477              -1.0                -0.9959   \n",
       "2008-09-22               -0.091722              -1.0                -0.9933   \n",
       "\n",
       "            vader_sentiment  textblob_sentiment_score  textblob_sentiment  \\\n",
       "2008-09-09             -1.0                  0.004653                 1.0   \n",
       "2008-09-12              1.0                 -0.020412                -1.0   \n",
       "2008-09-15             -1.0                 -0.089784                -1.0   \n",
       "2008-09-16             -1.0                 -0.059579                -1.0   \n",
       "2008-09-22             -1.0                 -0.018890                -1.0   \n",
       "\n",
       "            HIV4_sentiment_score  HIV4_sentiment  LM_sentiment_score  \\\n",
       "2008-09-09              0.064327             1.0           -0.693431   \n",
       "2008-09-12              0.333333             1.0           -0.589744   \n",
       "2008-09-15             -0.223881            -1.0           -0.828571   \n",
       "2008-09-16             -0.119565            -1.0           -0.723404   \n",
       "2008-09-22             -0.123810            -1.0           -0.695652   \n",
       "\n",
       "            LM_sentiment  aggregate_sentiment  exchange_rate  \\\n",
       "2008-09-09          -1.0                  1.0      -0.000897   \n",
       "2008-09-12          -1.0                  1.0      -0.016421   \n",
       "2008-09-15          -1.0                 -1.0      -0.002889   \n",
       "2008-09-16          -1.0                 -1.0       0.000645   \n",
       "2008-09-22          -1.0                 -1.0      -0.025690   \n",
       "\n",
       "            exchange_direction  libor_EUR  libor_USD  interest_diff  \n",
       "2008-09-09                -1.0    3.96250    2.13500       -1.82750  \n",
       "2008-09-12                -1.0    4.29500    2.14625       -2.14875  \n",
       "2008-09-15                -1.0    4.49375    3.10625       -1.38750  \n",
       "2008-09-16                 1.0    4.41750    6.43750        2.02000  \n",
       "2008-09-22                -1.0    4.40625    2.96875       -1.43750  "
      ]
     },
     "execution_count": 566,
     "metadata": {},
     "output_type": "execute_result"
    }
   ],
   "source": [
    "dataset.head()"
   ]
  },
  {
   "cell_type": "code",
   "execution_count": 482,
   "metadata": {},
   "outputs": [],
   "source": [
    "sentiment_list = []\n",
    "for i in range(len(dataset)):\n",
    "    if dataset['interest_diff'][i] > 0 and  dataset['exchange_rate'][i] > 0:\n",
    "        sentiment_list.append(1)\n",
    "    elif dataset['interest_diff'][i] < 0 and  dataset['exchange_rate'][i] < 0:\n",
    "        sentiment_list.append(-1)\n",
    "    elif dataset['interest_diff'][i] < 0 and  dataset['exchange_rate'][i] > 0:\n",
    "        sentiment_list.append(1)\n",
    "    elif dataset['interest_diff'][i] > 0 and  dataset['exchange_rate'][i] < 0:\n",
    "        sentiment_list.append(-1)\n",
    "    else:\n",
    "        sentiment_list.append(0)"
   ]
  },
  {
   "cell_type": "code",
   "execution_count": 483,
   "metadata": {},
   "outputs": [
    {
     "data": {
      "text/plain": [
       "2254"
      ]
     },
     "execution_count": 483,
     "metadata": {},
     "output_type": "execute_result"
    }
   ],
   "source": [
    "len(dataset)"
   ]
  },
  {
   "cell_type": "code",
   "execution_count": 484,
   "metadata": {},
   "outputs": [
    {
     "data": {
      "text/plain": [
       "2254"
      ]
     },
     "execution_count": 484,
     "metadata": {},
     "output_type": "execute_result"
    }
   ],
   "source": [
    "len(sentiment_list)"
   ]
  },
  {
   "cell_type": "code",
   "execution_count": 485,
   "metadata": {},
   "outputs": [],
   "source": [
    "dataset['sentiment_data'] = sentiment_list"
   ]
  },
  {
   "cell_type": "code",
   "execution_count": 488,
   "metadata": {},
   "outputs": [
    {
     "data": {
      "text/html": [
       "<div>\n",
       "<style scoped>\n",
       "    .dataframe tbody tr th:only-of-type {\n",
       "        vertical-align: middle;\n",
       "    }\n",
       "\n",
       "    .dataframe tbody tr th {\n",
       "        vertical-align: top;\n",
       "    }\n",
       "\n",
       "    .dataframe thead th {\n",
       "        text-align: right;\n",
       "    }\n",
       "</style>\n",
       "<table border=\"1\" class=\"dataframe\">\n",
       "  <thead>\n",
       "    <tr style=\"text-align: right;\">\n",
       "      <th></th>\n",
       "      <th>text</th>\n",
       "      <th>title</th>\n",
       "      <th>manual_sentiment_score</th>\n",
       "      <th>manual_sentiment</th>\n",
       "      <th>vader_sentiment_score</th>\n",
       "      <th>vader_sentiment</th>\n",
       "      <th>textblob_sentiment_score</th>\n",
       "      <th>textblob_sentiment</th>\n",
       "      <th>exchange_rate</th>\n",
       "      <th>exchange_direction</th>\n",
       "      <th>libor_EUR</th>\n",
       "      <th>libor_USD</th>\n",
       "      <th>interest_diff</th>\n",
       "      <th>sentiment_data</th>\n",
       "    </tr>\n",
       "  </thead>\n",
       "  <tbody>\n",
       "    <tr>\n",
       "      <th>2008-09-09</th>\n",
       "      <td>msci world equity index pct panic sell hit asi...</td>\n",
       "      <td>global market fearful investor dump stock bond...</td>\n",
       "      <td>0.064140</td>\n",
       "      <td>1.0</td>\n",
       "      <td>-0.9996</td>\n",
       "      <td>-1.0</td>\n",
       "      <td>0.004653</td>\n",
       "      <td>1.0</td>\n",
       "      <td>-0.000897</td>\n",
       "      <td>-1.0</td>\n",
       "      <td>3.96250</td>\n",
       "      <td>2.13500</td>\n",
       "      <td>-1.82750</td>\n",
       "      <td>-1</td>\n",
       "    </tr>\n",
       "    <tr>\n",
       "      <th>2008-09-12</th>\n",
       "      <td>euro rally european govts agree rescue bank st...</td>\n",
       "      <td>forex euro stg rally bank bailout detail annou...</td>\n",
       "      <td>0.088672</td>\n",
       "      <td>1.0</td>\n",
       "      <td>0.5003</td>\n",
       "      <td>1.0</td>\n",
       "      <td>-0.020412</td>\n",
       "      <td>-1.0</td>\n",
       "      <td>-0.016421</td>\n",
       "      <td>-1.0</td>\n",
       "      <td>4.29500</td>\n",
       "      <td>2.14625</td>\n",
       "      <td>-2.14875</td>\n",
       "      <td>-1</td>\n",
       "    </tr>\n",
       "    <tr>\n",
       "      <th>2008-09-15</th>\n",
       "      <td>stock surge bargain snap wild session dollar g...</td>\n",
       "      <td>global market stock surge bargain hunt oil slide</td>\n",
       "      <td>-0.078151</td>\n",
       "      <td>-1.0</td>\n",
       "      <td>-0.9973</td>\n",
       "      <td>-1.0</td>\n",
       "      <td>-0.089784</td>\n",
       "      <td>-1.0</td>\n",
       "      <td>-0.002889</td>\n",
       "      <td>-1.0</td>\n",
       "      <td>4.49375</td>\n",
       "      <td>3.10625</td>\n",
       "      <td>-1.38750</td>\n",
       "      <td>-1</td>\n",
       "    </tr>\n",
       "    <tr>\n",
       "      <th>2008-09-16</th>\n",
       "      <td>jeremy gaunt european investment correspondent...</td>\n",
       "      <td>global market equity rise help earnings credit...</td>\n",
       "      <td>-0.268477</td>\n",
       "      <td>-1.0</td>\n",
       "      <td>-0.9959</td>\n",
       "      <td>-1.0</td>\n",
       "      <td>-0.059579</td>\n",
       "      <td>-1.0</td>\n",
       "      <td>0.000645</td>\n",
       "      <td>1.0</td>\n",
       "      <td>4.41750</td>\n",
       "      <td>6.43750</td>\n",
       "      <td>2.02000</td>\n",
       "      <td>1</td>\n",
       "    </tr>\n",
       "    <tr>\n",
       "      <th>2008-09-22</th>\n",
       "      <td>euro hit year low vs dollar year low vs yen ye...</td>\n",
       "      <td>forex dollar hit yr high euro slide econ worry...</td>\n",
       "      <td>-0.091722</td>\n",
       "      <td>-1.0</td>\n",
       "      <td>-0.9933</td>\n",
       "      <td>-1.0</td>\n",
       "      <td>-0.018890</td>\n",
       "      <td>-1.0</td>\n",
       "      <td>-0.025690</td>\n",
       "      <td>-1.0</td>\n",
       "      <td>4.40625</td>\n",
       "      <td>2.96875</td>\n",
       "      <td>-1.43750</td>\n",
       "      <td>-1</td>\n",
       "    </tr>\n",
       "  </tbody>\n",
       "</table>\n",
       "</div>"
      ],
      "text/plain": [
       "                                                         text  \\\n",
       "2008-09-09  msci world equity index pct panic sell hit asi...   \n",
       "2008-09-12  euro rally european govts agree rescue bank st...   \n",
       "2008-09-15  stock surge bargain snap wild session dollar g...   \n",
       "2008-09-16  jeremy gaunt european investment correspondent...   \n",
       "2008-09-22  euro hit year low vs dollar year low vs yen ye...   \n",
       "\n",
       "                                                        title  \\\n",
       "2008-09-09  global market fearful investor dump stock bond...   \n",
       "2008-09-12  forex euro stg rally bank bailout detail annou...   \n",
       "2008-09-15   global market stock surge bargain hunt oil slide   \n",
       "2008-09-16  global market equity rise help earnings credit...   \n",
       "2008-09-22  forex dollar hit yr high euro slide econ worry...   \n",
       "\n",
       "            manual_sentiment_score  manual_sentiment  vader_sentiment_score  \\\n",
       "2008-09-09                0.064140               1.0                -0.9996   \n",
       "2008-09-12                0.088672               1.0                 0.5003   \n",
       "2008-09-15               -0.078151              -1.0                -0.9973   \n",
       "2008-09-16               -0.268477              -1.0                -0.9959   \n",
       "2008-09-22               -0.091722              -1.0                -0.9933   \n",
       "\n",
       "            vader_sentiment  textblob_sentiment_score  textblob_sentiment  \\\n",
       "2008-09-09             -1.0                  0.004653                 1.0   \n",
       "2008-09-12              1.0                 -0.020412                -1.0   \n",
       "2008-09-15             -1.0                 -0.089784                -1.0   \n",
       "2008-09-16             -1.0                 -0.059579                -1.0   \n",
       "2008-09-22             -1.0                 -0.018890                -1.0   \n",
       "\n",
       "            exchange_rate  exchange_direction  libor_EUR  libor_USD  \\\n",
       "2008-09-09      -0.000897                -1.0    3.96250    2.13500   \n",
       "2008-09-12      -0.016421                -1.0    4.29500    2.14625   \n",
       "2008-09-15      -0.002889                -1.0    4.49375    3.10625   \n",
       "2008-09-16       0.000645                 1.0    4.41750    6.43750   \n",
       "2008-09-22      -0.025690                -1.0    4.40625    2.96875   \n",
       "\n",
       "            interest_diff  sentiment_data  \n",
       "2008-09-09       -1.82750              -1  \n",
       "2008-09-12       -2.14875              -1  \n",
       "2008-09-15       -1.38750              -1  \n",
       "2008-09-16        2.02000               1  \n",
       "2008-09-22       -1.43750              -1  "
      ]
     },
     "execution_count": 488,
     "metadata": {},
     "output_type": "execute_result"
    }
   ],
   "source": [
    "dataset.head()"
   ]
  },
  {
   "cell_type": "code",
   "execution_count": 248,
   "metadata": {},
   "outputs": [
    {
     "data": {
      "text/html": [
       "<div>\n",
       "<style scoped>\n",
       "    .dataframe tbody tr th:only-of-type {\n",
       "        vertical-align: middle;\n",
       "    }\n",
       "\n",
       "    .dataframe tbody tr th {\n",
       "        vertical-align: top;\n",
       "    }\n",
       "\n",
       "    .dataframe thead th {\n",
       "        text-align: right;\n",
       "    }\n",
       "</style>\n",
       "<table border=\"1\" class=\"dataframe\">\n",
       "  <thead>\n",
       "    <tr style=\"text-align: right;\">\n",
       "      <th></th>\n",
       "      <th>libor_GBP</th>\n",
       "      <th>libor_USD</th>\n",
       "      <th>interest_diff</th>\n",
       "      <th>GBP</th>\n",
       "      <th>sentiment_data</th>\n",
       "    </tr>\n",
       "  </thead>\n",
       "  <tbody>\n",
       "    <tr>\n",
       "      <th>2008-09-09</th>\n",
       "      <td>5.05188</td>\n",
       "      <td>2.13500</td>\n",
       "      <td>-2.91688</td>\n",
       "      <td>-0.003039</td>\n",
       "      <td>-1</td>\n",
       "    </tr>\n",
       "    <tr>\n",
       "      <th>2008-09-11</th>\n",
       "      <td>5.04875</td>\n",
       "      <td>2.13875</td>\n",
       "      <td>-2.91000</td>\n",
       "      <td>0.005643</td>\n",
       "      <td>1</td>\n",
       "    </tr>\n",
       "    <tr>\n",
       "      <th>2008-09-12</th>\n",
       "      <td>5.04750</td>\n",
       "      <td>2.14625</td>\n",
       "      <td>-2.90125</td>\n",
       "      <td>-0.016781</td>\n",
       "      <td>-1</td>\n",
       "    </tr>\n",
       "    <tr>\n",
       "      <th>2008-09-15</th>\n",
       "      <td>5.49375</td>\n",
       "      <td>3.10625</td>\n",
       "      <td>-2.38750</td>\n",
       "      <td>-0.004066</td>\n",
       "      <td>-1</td>\n",
       "    </tr>\n",
       "    <tr>\n",
       "      <th>2008-09-16</th>\n",
       "      <td>6.79375</td>\n",
       "      <td>6.43750</td>\n",
       "      <td>-0.35625</td>\n",
       "      <td>0.000937</td>\n",
       "      <td>1</td>\n",
       "    </tr>\n",
       "  </tbody>\n",
       "</table>\n",
       "</div>"
      ],
      "text/plain": [
       "            libor_GBP  libor_USD  interest_diff       GBP  sentiment_data\n",
       "2008-09-09    5.05188    2.13500       -2.91688 -0.003039              -1\n",
       "2008-09-11    5.04875    2.13875       -2.91000  0.005643               1\n",
       "2008-09-12    5.04750    2.14625       -2.90125 -0.016781              -1\n",
       "2008-09-15    5.49375    3.10625       -2.38750 -0.004066              -1\n",
       "2008-09-16    6.79375    6.43750       -0.35625  0.000937               1"
      ]
     },
     "execution_count": 248,
     "metadata": {},
     "output_type": "execute_result"
    }
   ],
   "source": []
  },
  {
   "cell_type": "code",
   "execution_count": 345,
   "metadata": {},
   "outputs": [
    {
     "data": {
      "text/plain": [
       "DatetimeIndex(['2008-09-09', '2008-09-11', '2008-09-12', '2008-09-15',\n",
       "               '2008-09-16', '2008-09-22', '2008-09-26', '2008-09-29',\n",
       "               '2008-09-30', '2008-10-01',\n",
       "               ...\n",
       "               '2019-09-04', '2019-09-05', '2019-09-06', '2019-09-09',\n",
       "               '2019-09-10', '2019-09-12', '2019-09-13', '2019-09-16',\n",
       "               '2019-09-17', '2019-09-18'],\n",
       "              dtype='datetime64[ns]', length=2270, freq=None)"
      ]
     },
     "execution_count": 345,
     "metadata": {},
     "output_type": "execute_result"
    }
   ],
   "source": [
    "interest_df.index"
   ]
  },
  {
   "cell_type": "code",
   "execution_count": 344,
   "metadata": {},
   "outputs": [
    {
     "data": {
      "text/plain": [
       "DatetimeIndex(['2008-09-09', '2008-09-12', '2008-09-14', '2008-09-26',\n",
       "               '2008-09-27', '2008-09-28', '2008-09-29', '2008-09-30',\n",
       "               '2008-10-03', '2008-10-04',\n",
       "               ...\n",
       "               '2019-09-08', '2019-09-09', '2019-09-10', '2019-09-12',\n",
       "               '2019-09-13', '2019-09-14', '2019-09-15', '2019-09-16',\n",
       "               '2019-09-17', '2019-09-18'],\n",
       "              dtype='datetime64[ns]', length=3391, freq=None)"
      ]
     },
     "execution_count": 344,
     "metadata": {},
     "output_type": "execute_result"
    }
   ],
   "source": [
    "AUS_df.index"
   ]
  },
  {
   "cell_type": "code",
   "execution_count": 342,
   "metadata": {},
   "outputs": [
    {
     "ename": "ValueError",
     "evalue": "Length of values does not match length of index",
     "output_type": "error",
     "traceback": [
      "\u001b[0;31m---------------------------------------------------------------------------\u001b[0m",
      "\u001b[0;31mValueError\u001b[0m                                Traceback (most recent call last)",
      "\u001b[0;32m<ipython-input-342-30b84aee02d9>\u001b[0m in \u001b[0;36m<module>\u001b[0;34m\u001b[0m\n\u001b[0;32m----> 1\u001b[0;31m \u001b[0mAUS_df\u001b[0m\u001b[0;34m[\u001b[0m\u001b[0;34m'sentiment_data'\u001b[0m\u001b[0;34m]\u001b[0m \u001b[0;34m=\u001b[0m \u001b[0msentiment_list\u001b[0m\u001b[0;34m\u001b[0m\u001b[0;34m\u001b[0m\u001b[0m\n\u001b[0m",
      "\u001b[0;32m/anaconda3/lib/python3.7/site-packages/pandas/core/frame.py\u001b[0m in \u001b[0;36m__setitem__\u001b[0;34m(self, key, value)\u001b[0m\n\u001b[1;32m   3368\u001b[0m         \u001b[0;32melse\u001b[0m\u001b[0;34m:\u001b[0m\u001b[0;34m\u001b[0m\u001b[0;34m\u001b[0m\u001b[0m\n\u001b[1;32m   3369\u001b[0m             \u001b[0;31m# set column\u001b[0m\u001b[0;34m\u001b[0m\u001b[0;34m\u001b[0m\u001b[0;34m\u001b[0m\u001b[0m\n\u001b[0;32m-> 3370\u001b[0;31m             \u001b[0mself\u001b[0m\u001b[0;34m.\u001b[0m\u001b[0m_set_item\u001b[0m\u001b[0;34m(\u001b[0m\u001b[0mkey\u001b[0m\u001b[0;34m,\u001b[0m \u001b[0mvalue\u001b[0m\u001b[0;34m)\u001b[0m\u001b[0;34m\u001b[0m\u001b[0;34m\u001b[0m\u001b[0m\n\u001b[0m\u001b[1;32m   3371\u001b[0m \u001b[0;34m\u001b[0m\u001b[0m\n\u001b[1;32m   3372\u001b[0m     \u001b[0;32mdef\u001b[0m \u001b[0m_setitem_slice\u001b[0m\u001b[0;34m(\u001b[0m\u001b[0mself\u001b[0m\u001b[0;34m,\u001b[0m \u001b[0mkey\u001b[0m\u001b[0;34m,\u001b[0m \u001b[0mvalue\u001b[0m\u001b[0;34m)\u001b[0m\u001b[0;34m:\u001b[0m\u001b[0;34m\u001b[0m\u001b[0;34m\u001b[0m\u001b[0m\n",
      "\u001b[0;32m/anaconda3/lib/python3.7/site-packages/pandas/core/frame.py\u001b[0m in \u001b[0;36m_set_item\u001b[0;34m(self, key, value)\u001b[0m\n\u001b[1;32m   3443\u001b[0m \u001b[0;34m\u001b[0m\u001b[0m\n\u001b[1;32m   3444\u001b[0m         \u001b[0mself\u001b[0m\u001b[0;34m.\u001b[0m\u001b[0m_ensure_valid_index\u001b[0m\u001b[0;34m(\u001b[0m\u001b[0mvalue\u001b[0m\u001b[0;34m)\u001b[0m\u001b[0;34m\u001b[0m\u001b[0;34m\u001b[0m\u001b[0m\n\u001b[0;32m-> 3445\u001b[0;31m         \u001b[0mvalue\u001b[0m \u001b[0;34m=\u001b[0m \u001b[0mself\u001b[0m\u001b[0;34m.\u001b[0m\u001b[0m_sanitize_column\u001b[0m\u001b[0;34m(\u001b[0m\u001b[0mkey\u001b[0m\u001b[0;34m,\u001b[0m \u001b[0mvalue\u001b[0m\u001b[0;34m)\u001b[0m\u001b[0;34m\u001b[0m\u001b[0;34m\u001b[0m\u001b[0m\n\u001b[0m\u001b[1;32m   3446\u001b[0m         \u001b[0mNDFrame\u001b[0m\u001b[0;34m.\u001b[0m\u001b[0m_set_item\u001b[0m\u001b[0;34m(\u001b[0m\u001b[0mself\u001b[0m\u001b[0;34m,\u001b[0m \u001b[0mkey\u001b[0m\u001b[0;34m,\u001b[0m \u001b[0mvalue\u001b[0m\u001b[0;34m)\u001b[0m\u001b[0;34m\u001b[0m\u001b[0;34m\u001b[0m\u001b[0m\n\u001b[1;32m   3447\u001b[0m \u001b[0;34m\u001b[0m\u001b[0m\n",
      "\u001b[0;32m/anaconda3/lib/python3.7/site-packages/pandas/core/frame.py\u001b[0m in \u001b[0;36m_sanitize_column\u001b[0;34m(self, key, value, broadcast)\u001b[0m\n\u001b[1;32m   3628\u001b[0m \u001b[0;34m\u001b[0m\u001b[0m\n\u001b[1;32m   3629\u001b[0m             \u001b[0;31m# turn me into an ndarray\u001b[0m\u001b[0;34m\u001b[0m\u001b[0;34m\u001b[0m\u001b[0;34m\u001b[0m\u001b[0m\n\u001b[0;32m-> 3630\u001b[0;31m             \u001b[0mvalue\u001b[0m \u001b[0;34m=\u001b[0m \u001b[0msanitize_index\u001b[0m\u001b[0;34m(\u001b[0m\u001b[0mvalue\u001b[0m\u001b[0;34m,\u001b[0m \u001b[0mself\u001b[0m\u001b[0;34m.\u001b[0m\u001b[0mindex\u001b[0m\u001b[0;34m,\u001b[0m \u001b[0mcopy\u001b[0m\u001b[0;34m=\u001b[0m\u001b[0;32mFalse\u001b[0m\u001b[0;34m)\u001b[0m\u001b[0;34m\u001b[0m\u001b[0;34m\u001b[0m\u001b[0m\n\u001b[0m\u001b[1;32m   3631\u001b[0m             \u001b[0;32mif\u001b[0m \u001b[0;32mnot\u001b[0m \u001b[0misinstance\u001b[0m\u001b[0;34m(\u001b[0m\u001b[0mvalue\u001b[0m\u001b[0;34m,\u001b[0m \u001b[0;34m(\u001b[0m\u001b[0mnp\u001b[0m\u001b[0;34m.\u001b[0m\u001b[0mndarray\u001b[0m\u001b[0;34m,\u001b[0m \u001b[0mIndex\u001b[0m\u001b[0;34m)\u001b[0m\u001b[0;34m)\u001b[0m\u001b[0;34m:\u001b[0m\u001b[0;34m\u001b[0m\u001b[0;34m\u001b[0m\u001b[0m\n\u001b[1;32m   3632\u001b[0m                 \u001b[0;32mif\u001b[0m \u001b[0misinstance\u001b[0m\u001b[0;34m(\u001b[0m\u001b[0mvalue\u001b[0m\u001b[0;34m,\u001b[0m \u001b[0mlist\u001b[0m\u001b[0;34m)\u001b[0m \u001b[0;32mand\u001b[0m \u001b[0mlen\u001b[0m\u001b[0;34m(\u001b[0m\u001b[0mvalue\u001b[0m\u001b[0;34m)\u001b[0m \u001b[0;34m>\u001b[0m \u001b[0;36m0\u001b[0m\u001b[0;34m:\u001b[0m\u001b[0;34m\u001b[0m\u001b[0;34m\u001b[0m\u001b[0m\n",
      "\u001b[0;32m/anaconda3/lib/python3.7/site-packages/pandas/core/internals/construction.py\u001b[0m in \u001b[0;36msanitize_index\u001b[0;34m(data, index, copy)\u001b[0m\n\u001b[1;32m    517\u001b[0m \u001b[0;34m\u001b[0m\u001b[0m\n\u001b[1;32m    518\u001b[0m     \u001b[0;32mif\u001b[0m \u001b[0mlen\u001b[0m\u001b[0;34m(\u001b[0m\u001b[0mdata\u001b[0m\u001b[0;34m)\u001b[0m \u001b[0;34m!=\u001b[0m \u001b[0mlen\u001b[0m\u001b[0;34m(\u001b[0m\u001b[0mindex\u001b[0m\u001b[0;34m)\u001b[0m\u001b[0;34m:\u001b[0m\u001b[0;34m\u001b[0m\u001b[0;34m\u001b[0m\u001b[0m\n\u001b[0;32m--> 519\u001b[0;31m         \u001b[0;32mraise\u001b[0m \u001b[0mValueError\u001b[0m\u001b[0;34m(\u001b[0m\u001b[0;34m'Length of values does not match length of index'\u001b[0m\u001b[0;34m)\u001b[0m\u001b[0;34m\u001b[0m\u001b[0;34m\u001b[0m\u001b[0m\n\u001b[0m\u001b[1;32m    520\u001b[0m \u001b[0;34m\u001b[0m\u001b[0m\n\u001b[1;32m    521\u001b[0m     \u001b[0;32mif\u001b[0m \u001b[0misinstance\u001b[0m\u001b[0;34m(\u001b[0m\u001b[0mdata\u001b[0m\u001b[0;34m,\u001b[0m \u001b[0mABCIndexClass\u001b[0m\u001b[0;34m)\u001b[0m \u001b[0;32mand\u001b[0m \u001b[0;32mnot\u001b[0m \u001b[0mcopy\u001b[0m\u001b[0;34m:\u001b[0m\u001b[0;34m\u001b[0m\u001b[0;34m\u001b[0m\u001b[0m\n",
      "\u001b[0;31mValueError\u001b[0m: Length of values does not match length of index"
     ]
    }
   ],
   "source": [
    "AUS_df['sentiment_data'] = sentiment_list"
   ]
  },
  {
   "cell_type": "code",
   "execution_count": 302,
   "metadata": {},
   "outputs": [
    {
     "data": {
      "text/plain": [
       "2270"
      ]
     },
     "execution_count": 302,
     "metadata": {},
     "output_type": "execute_result"
    }
   ],
   "source": [
    "len(sentiment_list)"
   ]
  },
  {
   "cell_type": "code",
   "execution_count": 303,
   "metadata": {},
   "outputs": [
    {
     "data": {
      "text/plain": [
       "3163"
      ]
     },
     "execution_count": 303,
     "metadata": {},
     "output_type": "execute_result"
    }
   ],
   "source": [
    "len(AUS_df)"
   ]
  },
  {
   "cell_type": "code",
   "execution_count": 534,
   "metadata": {},
   "outputs": [
    {
     "data": {
      "text/html": [
       "<div>\n",
       "<style scoped>\n",
       "    .dataframe tbody tr th:only-of-type {\n",
       "        vertical-align: middle;\n",
       "    }\n",
       "\n",
       "    .dataframe tbody tr th {\n",
       "        vertical-align: top;\n",
       "    }\n",
       "\n",
       "    .dataframe thead th {\n",
       "        text-align: right;\n",
       "    }\n",
       "</style>\n",
       "<table border=\"1\" class=\"dataframe\">\n",
       "  <thead>\n",
       "    <tr style=\"text-align: right;\">\n",
       "      <th></th>\n",
       "      <th>text</th>\n",
       "      <th>title</th>\n",
       "      <th>manual_sentiment_score</th>\n",
       "      <th>manual_sentiment</th>\n",
       "      <th>vader_sentiment_score</th>\n",
       "      <th>vader_sentiment</th>\n",
       "      <th>textblob_sentiment_score</th>\n",
       "      <th>textblob_sentiment</th>\n",
       "      <th>exchange_rate</th>\n",
       "      <th>exchange_direction</th>\n",
       "      <th>libor_EUR</th>\n",
       "      <th>libor_USD</th>\n",
       "      <th>interest_diff</th>\n",
       "      <th>sentiment_data</th>\n",
       "    </tr>\n",
       "  </thead>\n",
       "  <tbody>\n",
       "    <tr>\n",
       "      <th>2008-09-09</th>\n",
       "      <td>msci world equity index pct panic sell hit asi...</td>\n",
       "      <td>global market fearful investor dump stock bond...</td>\n",
       "      <td>0.064140</td>\n",
       "      <td>1.0</td>\n",
       "      <td>-0.9996</td>\n",
       "      <td>-1.0</td>\n",
       "      <td>0.004653</td>\n",
       "      <td>1.0</td>\n",
       "      <td>-0.000897</td>\n",
       "      <td>-1.0</td>\n",
       "      <td>3.96250</td>\n",
       "      <td>2.13500</td>\n",
       "      <td>-1.82750</td>\n",
       "      <td>-1</td>\n",
       "    </tr>\n",
       "    <tr>\n",
       "      <th>2008-09-12</th>\n",
       "      <td>euro rally european govts agree rescue bank st...</td>\n",
       "      <td>forex euro stg rally bank bailout detail annou...</td>\n",
       "      <td>0.088672</td>\n",
       "      <td>1.0</td>\n",
       "      <td>0.5003</td>\n",
       "      <td>1.0</td>\n",
       "      <td>-0.020412</td>\n",
       "      <td>-1.0</td>\n",
       "      <td>-0.016421</td>\n",
       "      <td>-1.0</td>\n",
       "      <td>4.29500</td>\n",
       "      <td>2.14625</td>\n",
       "      <td>-2.14875</td>\n",
       "      <td>-1</td>\n",
       "    </tr>\n",
       "    <tr>\n",
       "      <th>2008-09-15</th>\n",
       "      <td>stock surge bargain snap wild session dollar g...</td>\n",
       "      <td>global market stock surge bargain hunt oil slide</td>\n",
       "      <td>-0.078151</td>\n",
       "      <td>-1.0</td>\n",
       "      <td>-0.9973</td>\n",
       "      <td>-1.0</td>\n",
       "      <td>-0.089784</td>\n",
       "      <td>-1.0</td>\n",
       "      <td>-0.002889</td>\n",
       "      <td>-1.0</td>\n",
       "      <td>4.49375</td>\n",
       "      <td>3.10625</td>\n",
       "      <td>-1.38750</td>\n",
       "      <td>-1</td>\n",
       "    </tr>\n",
       "    <tr>\n",
       "      <th>2008-09-16</th>\n",
       "      <td>jeremy gaunt european investment correspondent...</td>\n",
       "      <td>global market equity rise help earnings credit...</td>\n",
       "      <td>-0.268477</td>\n",
       "      <td>-1.0</td>\n",
       "      <td>-0.9959</td>\n",
       "      <td>-1.0</td>\n",
       "      <td>-0.059579</td>\n",
       "      <td>-1.0</td>\n",
       "      <td>0.000645</td>\n",
       "      <td>1.0</td>\n",
       "      <td>4.41750</td>\n",
       "      <td>6.43750</td>\n",
       "      <td>2.02000</td>\n",
       "      <td>1</td>\n",
       "    </tr>\n",
       "    <tr>\n",
       "      <th>2008-09-22</th>\n",
       "      <td>euro hit year low vs dollar year low vs yen ye...</td>\n",
       "      <td>forex dollar hit yr high euro slide econ worry...</td>\n",
       "      <td>-0.091722</td>\n",
       "      <td>-1.0</td>\n",
       "      <td>-0.9933</td>\n",
       "      <td>-1.0</td>\n",
       "      <td>-0.018890</td>\n",
       "      <td>-1.0</td>\n",
       "      <td>-0.025690</td>\n",
       "      <td>-1.0</td>\n",
       "      <td>4.40625</td>\n",
       "      <td>2.96875</td>\n",
       "      <td>-1.43750</td>\n",
       "      <td>-1</td>\n",
       "    </tr>\n",
       "  </tbody>\n",
       "</table>\n",
       "</div>"
      ],
      "text/plain": [
       "                                                         text  \\\n",
       "2008-09-09  msci world equity index pct panic sell hit asi...   \n",
       "2008-09-12  euro rally european govts agree rescue bank st...   \n",
       "2008-09-15  stock surge bargain snap wild session dollar g...   \n",
       "2008-09-16  jeremy gaunt european investment correspondent...   \n",
       "2008-09-22  euro hit year low vs dollar year low vs yen ye...   \n",
       "\n",
       "                                                        title  \\\n",
       "2008-09-09  global market fearful investor dump stock bond...   \n",
       "2008-09-12  forex euro stg rally bank bailout detail annou...   \n",
       "2008-09-15   global market stock surge bargain hunt oil slide   \n",
       "2008-09-16  global market equity rise help earnings credit...   \n",
       "2008-09-22  forex dollar hit yr high euro slide econ worry...   \n",
       "\n",
       "            manual_sentiment_score  manual_sentiment  vader_sentiment_score  \\\n",
       "2008-09-09                0.064140               1.0                -0.9996   \n",
       "2008-09-12                0.088672               1.0                 0.5003   \n",
       "2008-09-15               -0.078151              -1.0                -0.9973   \n",
       "2008-09-16               -0.268477              -1.0                -0.9959   \n",
       "2008-09-22               -0.091722              -1.0                -0.9933   \n",
       "\n",
       "            vader_sentiment  textblob_sentiment_score  textblob_sentiment  \\\n",
       "2008-09-09             -1.0                  0.004653                 1.0   \n",
       "2008-09-12              1.0                 -0.020412                -1.0   \n",
       "2008-09-15             -1.0                 -0.089784                -1.0   \n",
       "2008-09-16             -1.0                 -0.059579                -1.0   \n",
       "2008-09-22             -1.0                 -0.018890                -1.0   \n",
       "\n",
       "            exchange_rate  exchange_direction  libor_EUR  libor_USD  \\\n",
       "2008-09-09      -0.000897                -1.0    3.96250    2.13500   \n",
       "2008-09-12      -0.016421                -1.0    4.29500    2.14625   \n",
       "2008-09-15      -0.002889                -1.0    4.49375    3.10625   \n",
       "2008-09-16       0.000645                 1.0    4.41750    6.43750   \n",
       "2008-09-22      -0.025690                -1.0    4.40625    2.96875   \n",
       "\n",
       "            interest_diff  sentiment_data  \n",
       "2008-09-09       -1.82750              -1  \n",
       "2008-09-12       -2.14875              -1  \n",
       "2008-09-15       -1.38750              -1  \n",
       "2008-09-16        2.02000               1  \n",
       "2008-09-22       -1.43750              -1  "
      ]
     },
     "execution_count": 534,
     "metadata": {},
     "output_type": "execute_result"
    }
   ],
   "source": [
    "dataset.head()"
   ]
  },
  {
   "cell_type": "code",
   "execution_count": 567,
   "metadata": {},
   "outputs": [],
   "source": [
    "from sklearn.linear_model import LinearRegression\n",
    "model_1=LinearRegression()"
   ]
  },
  {
   "cell_type": "code",
   "execution_count": 568,
   "metadata": {},
   "outputs": [
    {
     "data": {
      "text/plain": [
       "LinearRegression(copy_X=True, fit_intercept=True, n_jobs=None,\n",
       "         normalize=False)"
      ]
     },
     "execution_count": 568,
     "metadata": {},
     "output_type": "execute_result"
    }
   ],
   "source": [
    "model_1.fit(dataset[['aggregate_sentiment', 'interest_diff']], dataset[['exchange_rate']])"
   ]
  },
  {
   "cell_type": "code",
   "execution_count": 572,
   "metadata": {},
   "outputs": [],
   "source": [
    "from sklearn.model_selection import train_test_split\n"
   ]
  },
  {
   "cell_type": "code",
   "execution_count": 573,
   "metadata": {},
   "outputs": [],
   "source": [
    "x_train, x_test, y_train, y_test = train_test_split(dataset[['aggregate_sentiment', 'interest_diff']],\n",
    "                                                    dataset['exchange_direction'], test_size=0.2, random_state = 42)"
   ]
  },
  {
   "cell_type": "code",
   "execution_count": 581,
   "metadata": {},
   "outputs": [],
   "source": [
    "from sklearn import svm\n",
    "\n",
    "#Create a svm Classifier\n",
    "clf = svm.SVC(kernel='rbf') # Linear Kernel\n",
    "\n",
    "#Train the model using the training sets\n",
    "clf.fit(x_train, y_train)\n",
    "\n",
    "#Predict the response for test dataset\n",
    "y_pred = clf.predict(x_test)"
   ]
  },
  {
   "cell_type": "code",
   "execution_count": 582,
   "metadata": {},
   "outputs": [
    {
     "data": {
      "text/plain": [
       "LogisticRegression(C=1.0, class_weight=None, dual=False, fit_intercept=True,\n",
       "          intercept_scaling=1, max_iter=100, multi_class='warn',\n",
       "          n_jobs=None, penalty='l2', random_state=None, solver='warn',\n",
       "          tol=0.0001, verbose=0, warm_start=False)"
      ]
     },
     "execution_count": 582,
     "metadata": {},
     "output_type": "execute_result"
    }
   ],
   "source": [
    "from sklearn.linear_model import LogisticRegression\n",
    "logisticRegr = LogisticRegression()\n",
    "logisticRegr.fit(x_train, y_train)"
   ]
  },
  {
   "cell_type": "code",
   "execution_count": 583,
   "metadata": {},
   "outputs": [
    {
     "name": "stdout",
     "output_type": "stream",
     "text": [
      "Accuracy: 0.5011086474501109\n"
     ]
    }
   ],
   "source": [
    "#Import scikit-learn metrics module for accuracy calculation\n",
    "from sklearn import metrics\n",
    "\n",
    "# Model Accuracy: how often is the classifier correct?\n",
    "print(\"Accuracy:\",metrics.accuracy_score(y_test, y_pred))"
   ]
  },
  {
   "cell_type": "code",
   "execution_count": 576,
   "metadata": {},
   "outputs": [
    {
     "data": {
      "text/plain": [
       "0.47671840354767187"
      ]
     },
     "execution_count": 576,
     "metadata": {},
     "output_type": "execute_result"
    }
   ],
   "source": [
    "score"
   ]
  },
  {
   "cell_type": "code",
   "execution_count": 578,
   "metadata": {},
   "outputs": [
    {
     "data": {
      "text/plain": [
       "array([[ 80, 137],\n",
       "       [ 99, 135]])"
      ]
     },
     "execution_count": 578,
     "metadata": {},
     "output_type": "execute_result"
    }
   ],
   "source": [
    "cm = confusion_matrix(y_test, predictions)\n",
    "cm"
   ]
  },
  {
   "cell_type": "code",
   "execution_count": null,
   "metadata": {},
   "outputs": [],
   "source": []
  }
 ],
 "metadata": {
  "kernelspec": {
   "display_name": "Python 3",
   "language": "python",
   "name": "python3"
  },
  "language_info": {
   "codemirror_mode": {
    "name": "ipython",
    "version": 3
   },
   "file_extension": ".py",
   "mimetype": "text/x-python",
   "name": "python",
   "nbconvert_exporter": "python",
   "pygments_lexer": "ipython3",
   "version": "3.7.3"
  }
 },
 "nbformat": 4,
 "nbformat_minor": 2
}
